{
 "cells": [
  {
   "cell_type": "code",
   "execution_count": 2,
   "id": "b7b15cad",
   "metadata": {},
   "outputs": [],
   "source": [
    "import pyroSAR\n",
    "from pyroSAR.snap.auxil import parse_recipe, parse_node\n",
    "from pyroSAR.snap.auxil import gpt\n",
    "from pyroSAR import identify"
   ]
  },
  {
   "cell_type": "code",
   "execution_count": 3,
   "id": "f40ea04d",
   "metadata": {},
   "outputs": [
    {
     "name": "stdout",
     "output_type": "stream",
     "text": [
      "S1B__IW___A_20210814T165951\n"
     ]
    }
   ],
   "source": [
    "#import logging\n",
    "#logging.basicConfig(level=logging.INFO)\n",
    "\n",
    "#import os\n",
    "#import pickle\n",
    "\n",
    "#os.environ['PATH'] = \"C:/Program Files/snap/bin\"\n",
    "#os.environ['PATH2'] = \"K:/Rough/output\"\n",
    "\n",
    "#os.environ['PROJ_LIB'] = '/usr/share/proj'\n",
    "\n",
    "# read1 = os.path.join('K:/Rough/sar data/coherence/S1B_IW_SLC__1SDV_20210814T165951_20210814T170018_028245_035EA1_57A5.zip')\n",
    "# read2 = os.path.join('K:/Rough/sar data/coherence/S1B_IW_SLC__1SDV_20210826T165952_20210826T170019_028420_036413_214F.zip')\n",
    "# id_1 = identify(read1).outname_base()\n",
    "# id_2 = identify(read2).outname_base()\n",
    "# print(id_1)\n",
    "# print(id_2)\n",
    "\n",
    "read1 = identify('K:/Rough/sar data/coherence/S1B_IW_SLC__1SDV_20210814T165951_20210814T170018_028245_035EA1_57A5.zip')\n",
    "read2 = identify('K:/Rough/sar data/coherence/S1B_IW_SLC__1SDV_20210826T165952_20210826T170019_028420_036413_214F.zip')\n",
    "print(read1.outname_base())"
   ]
  },
  {
   "cell_type": "code",
   "execution_count": 4,
   "id": "6d1f5c2b",
   "metadata": {},
   "outputs": [
    {
     "name": "stdout",
     "output_type": "stream",
     "text": [
      "Wall time: 68 ms\n"
     ]
    }
   ],
   "source": [
    "%%time\n",
    "\n",
    "workflow = parse_recipe('blank')\n",
    "\n",
    "read1 = parse_node('Read')\n",
    "read1.parameters['file'] = read1\n",
    "read1.parameters['formatName'] = 'SENTINEL-1'\n",
    "workflow.insert_node(read1)\n",
    "\n",
    "read2 = parse_node('Read')\n",
    "read2.parameters['file'] = read2\n",
    "read2.parameters['formatName'] = 'SENTINEL-1'\n",
    "workflow.insert_node(read2)\n",
    "\n",
    "split1 = parse_node('TOPSAR-split')\n",
    "split1.parameters['subswath'] = 'IW1'\n",
    "split1.parameters['selectedPolarisations'] = 'VV'\n",
    "split1.parameters['firstBurstIndex'] = 6\n",
    "split1.parameters['lastBurstIndex'] = 7\n",
    "workflow.insert_node(split1, before=read1.id)\n",
    "\n",
    "split2 = parse_node('TOPSAR-split')\n",
    "split2.parameters['subswath'] = 'IW1'\n",
    "split2.parameters['selectedPolarisations'] = 'VV'\n",
    "split2.parameters['firstBurstIndex'] = 6\n",
    "split2.parameters['lastBurstIndex'] = 7\n",
    "workflow.insert_node(split2, before=read2.id)\n",
    "\n",
    "orb1 = parse_node('Apply-Orbit-File')\n",
    "orb1.parameters['orbitType'] = 'Sentinel Precise (Auto Download)'\n",
    "orb1.parameters['continueOnFail'] = True\n",
    "workflow.insert_node(orb1, before=split1.id)\n",
    "\n",
    "orb2 = parse_node('Apply-Orbit-File')\n",
    "orb2.parameters['orbitType'] = 'Sentinel Precise (Auto Download)'\n",
    "orb2.parameters['continueOnFail'] = True\n",
    "workflow.insert_node(orb2, before=split2.id)\n",
    "\n",
    "stack = parse_node('Back-Geocoding')\n",
    "stack.parameters['demName'] = 'SRTM 1Sec Grid'\n",
    "stack.parameters['demResamplingMethod'] = 'BILINEAR_INTERPOLATION'\n",
    "stack.parameters['resamplingType'] = 'BILINEAR_INTERPOLATION'\n",
    "stack.parameters['maskOutAreaWithoutElevation'] = True\n",
    "stack.parameters['outputDerampDemodPhase'] = True\n",
    "workflow.insert_node(stack, before= [orb2.id, orb1.id])\n",
    "\n",
    "esd = parse_node('Enhanced-Spectral-Diversity')\n",
    "workflow.insert_node(esd, before=stack.id)\n",
    "\n",
    "# ifg = parse_node('Interferogram')\n",
    "# ifg.parameters['subtractFlatEarthPhase'] = True\n",
    "# ifg.parameters['srpPolynomialDegree'] = 5\n",
    "# ifg.parameters[''] =\n",
    "# ifg.parameters[''] =\n",
    "# ifg.parameters[''] =\n",
    "# ifg.parameters[''] =\n",
    "# ifg.parameters[''] =\n",
    "# ifg.parameters[''] =\n",
    "# ifg.parameters[''] =\n",
    "# ifg.parameters[''] =\n",
    "# ifg.parameters[''] =\n",
    "\n",
    "# deburst\n",
    "deb = parse_node(\"TOPSAR-Deburst\")\n",
    "workflow.insert_node(deb, before = esd.id)\n",
    "\n",
    "#merge_list.append(deb.id)\n"
   ]
  },
  {
   "cell_type": "code",
   "execution_count": 5,
   "id": "dc30d0e2",
   "metadata": {},
   "outputs": [],
   "source": [
    "write = parse_node(\"Write\")\n",
    "write.parameters[\"file\"] = \"K:/Rough/output/pysar22\"\n",
    "write.parameters[\"formatName\"] = \"BEAM-DIMAP\"\n",
    "workflow.insert_node(write, before = deb.id)\n",
    "\n",
    "workflow.write(\"K:/Rough/output/pyro11_workflow1\")\n",
    "\n",
    "#xmlname = 'pyro11_workflow1'\n",
    "#workflow.write('K:/Rough/output/'+xmlname)\n",
    "\n",
    "\n",
    "#gpt(xmlfile='K:/Rough/output/'+ xmlname +'.xml', outdir='K:/Rough/output2')"
   ]
  },
  {
   "cell_type": "code",
   "execution_count": 6,
   "id": "48cef938",
   "metadata": {},
   "outputs": [
    {
     "name": "stdout",
     "output_type": "stream",
     "text": [
      "[['Read', 'TOPSAR-Split'], ['Apply-Orbit-File'], ['Read (2)', 'TOPSAR-Split (2)'], ['Apply-Orbit-File (2)'], ['Back-Geocoding'], ['Enhanced-Spectral-Diversity'], ['TOPSAR-Deburst', 'Write']]\n"
     ]
    }
   ],
   "source": [
    "from pyroSAR.snap.auxil import gpt\n",
    "\n",
    "from pyroSAR.snap.auxil import groupbyWorkers\n",
    "\n",
    "\n",
    "groups = groupbyWorkers('K:/Rough/output/pyro11_workflow1.xml', n=1)\n",
    "print(groups)\n",
    "\n",
    "gpt(xmlfile='K:/Rough/output/pyro11_workflow1.xml', groups = groups, outdir = 'K:/Rough/output')\n",
    "#gpt(xmlfile='K:/Rough/output/pyro11_workflow1.xml', outdir ='K:/Rough/output2')"
   ]
  },
  {
   "cell_type": "code",
   "execution_count": null,
   "id": "8764cc61",
   "metadata": {},
   "outputs": [],
   "source": []
  }
 ],
 "metadata": {
  "kernelspec": {
   "display_name": "Python [conda env:.conda-mypy6] *",
   "language": "python",
   "name": "conda-env-.conda-mypy6-py"
  },
  "language_info": {
   "codemirror_mode": {
    "name": "ipython",
    "version": 3
   },
   "file_extension": ".py",
   "mimetype": "text/x-python",
   "name": "python",
   "nbconvert_exporter": "python",
   "pygments_lexer": "ipython3",
   "version": "3.6.13"
  }
 },
 "nbformat": 4,
 "nbformat_minor": 5
}
