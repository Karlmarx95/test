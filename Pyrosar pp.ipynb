{
 "cells": [
  {
   "cell_type": "code",
   "execution_count": 7,
   "id": "b7b15cad",
   "metadata": {},
   "outputs": [],
   "source": [
    "import pyroSAR\n",
    "from pyroSAR.snap.auxil import parse_recipe, parse_node\n",
    "from pyroSAR.snap.auxil import gpt\n",
    "from pyroSAR import identify"
   ]
  },
  {
   "cell_type": "code",
   "execution_count": 8,
   "id": "f40ea04d",
   "metadata": {},
   "outputs": [
    {
     "name": "stdout",
     "output_type": "stream",
     "text": [
      "S1B__IW___A_20210814T165951\n"
     ]
    }
   ],
   "source": [
    "#import logging\n",
    "#logging.basicConfig(level=logging.INFO)\n",
    "\n",
    "#import os\n",
    "#import pickle\n",
    "\n",
    "#os.environ['PATH'] = \"C:/Program Files/snap/bin\"\n",
    "#os.environ['PATH2'] = \"K:/Rough/output\"\n",
    "\n",
    "#os.environ['PROJ_LIB'] = '/usr/share/proj'\n",
    "\n",
    "# read1 = os.path.join('K:/Rough/sar data/coherence/S1B_IW_SLC__1SDV_20210814T165951_20210814T170018_028245_035EA1_57A5.zip')\n",
    "# read2 = os.path.join('K:/Rough/sar data/coherence/S1B_IW_SLC__1SDV_20210826T165952_20210826T170019_028420_036413_214F.zip')\n",
    "# id_1 = identify(read1).outname_base()\n",
    "# id_2 = identify(read2).outname_base()\n",
    "# print(id_1)\n",
    "# print(id_2)\n",
    "\n",
    "read1 = identify('K:/Rough/sar data/coherence/S1B_IW_SLC__1SDV_20210814T165951_20210814T170018_028245_035EA1_57A5.zip')\n",
    "read2 = identify('K:/Rough/sar data/coherence/S1B_IW_SLC__1SDV_20210826T165952_20210826T170019_028420_036413_214F.zip')\n",
    "print(read1.outname_base())"
   ]
  },
  {
   "cell_type": "code",
   "execution_count": 9,
   "id": "6d1f5c2b",
   "metadata": {},
   "outputs": [
    {
     "name": "stdout",
     "output_type": "stream",
     "text": [
      "Wall time: 35 ms\n"
     ]
    }
   ],
   "source": [
    "%%time\n",
    "\n",
    "workflow = parse_recipe('blank')\n",
    "\n",
    "read1 = parse_node('Read')\n",
    "read1.parameters['file'] = read1\n",
    "read1.parameters['formatName'] = 'SENTINEL-1'\n",
    "workflow.insert_node(read1)\n",
    "\n",
    "read2 = parse_node('Read')\n",
    "read2.parameters['file'] = read2\n",
    "read2.parameters['formatName'] = 'SENTINEL-1'\n",
    "workflow.insert_node(read2)\n",
    "\n",
    "split1 = parse_node('TOPSAR-split')\n",
    "split1.parameters['subswath'] = 'IW1'\n",
    "split1.parameters['selectedPolarisations'] = 'VV'\n",
    "split1.parameters['firstBurstIndex'] = 6\n",
    "split1.parameters['lastBurstIndex'] = 7\n",
    "workflow.insert_node(split1, before=read1.id)\n",
    "\n",
    "split2 = parse_node('TOPSAR-split')\n",
    "split2.parameters['subswath'] = 'IW1'\n",
    "split2.parameters['selectedPolarisations'] = 'VV'\n",
    "split2.parameters['firstBurstIndex'] = 6\n",
    "split2.parameters['lastBurstIndex'] = 7\n",
    "workflow.insert_node(split2, before=read2.id)\n",
    "\n",
    "orb1 = parse_node('Apply-Orbit-File')\n",
    "orb1.parameters['orbitType'] = 'Sentinel Precise (Auto Download)'\n",
    "orb1.parameters['continueOnFail'] = True\n",
    "workflow.insert_node(orb1, before=split1.id)\n",
    "\n",
    "orb2 = parse_node('Apply-Orbit-File')\n",
    "orb2.parameters['orbitType'] = 'Sentinel Precise (Auto Download)'\n",
    "orb2.parameters['continueOnFail'] = True\n",
    "workflow.insert_node(orb2, before=split2.id)\n",
    "\n",
    "stack = parse_node('Back-Geocoding')\n",
    "stack.parameters['demName'] = 'SRTM 1Sec Grid'\n",
    "stack.parameters['demResamplingMethod'] = 'BILINEAR_INTERPOLATION'\n",
    "stack.parameters['resamplingType'] = 'BILINEAR_INTERPOLATION'\n",
    "stack.parameters['maskOutAreaWithoutElevation'] = True\n",
    "stack.parameters['outputDerampDemodPhase'] = True\n",
    "workflow.insert_node(stack, before= [orb2.id, orb1.id])\n",
    "\n",
    "esd = parse_node('Enhanced-Spectral-Diversity')\n",
    "workflow.insert_node(esd, before=stack.id)\n",
    "\n",
    "# ifg = parse_node('Interferogram')\n",
    "# ifg.parameters['subtractFlatEarthPhase'] = True\n",
    "# ifg.parameters['srpPolynomialDegree'] = 5\n",
    "# ifg.parameters[''] =\n",
    "# ifg.parameters[''] =\n",
    "# ifg.parameters[''] =\n",
    "# ifg.parameters[''] =\n",
    "# ifg.parameters[''] =\n",
    "# ifg.parameters[''] =\n",
    "# ifg.parameters[''] =\n",
    "# ifg.parameters[''] =\n",
    "# ifg.parameters[''] =\n",
    "\n",
    "# deburst\n",
    "deb = parse_node(\"TOPSAR-Deburst\")\n",
    "workflow.insert_node(deb, before = esd.id)\n",
    "\n",
    "#merge_list.append(deb.id)\n"
   ]
  },
  {
   "cell_type": "code",
   "execution_count": 10,
   "id": "dc30d0e2",
   "metadata": {},
   "outputs": [],
   "source": [
    "write = parse_node(\"Write\")\n",
    "write.parameters[\"file\"] = \"K:/Rough/output/pysar22\"\n",
    "write.parameters[\"formatName\"] = \"BEAM-DIMAP\"\n",
    "workflow.insert_node(write, before = deb.id)\n",
    "\n",
    "workflow.write(\"K:/Rough/output/pyro11_workflow1\")\n",
    "\n",
    "#xmlname = 'pyro11_workflow1'\n",
    "#workflow.write('K:/Rough/output/'+xmlname)\n",
    "\n",
    "\n",
    "#gpt(xmlfile='K:/Rough/output/'+ xmlname +'.xml', outdir='K:/Rough/output2')"
   ]
  },
  {
   "cell_type": "code",
   "execution_count": 11,
   "id": "48cef938",
   "metadata": {},
   "outputs": [
    {
     "name": "stdout",
     "output_type": "stream",
     "text": [
      "[['Read', 'TOPSAR-Split'], ['Apply-Orbit-File'], ['Read (2)', 'TOPSAR-Split (2)'], ['Apply-Orbit-File (2)'], ['Back-Geocoding'], ['Enhanced-Spectral-Diversity'], ['TOPSAR-Deburst', 'Write']]\n"
     ]
    },
    {
     "ename": "OSError",
     "evalue": "No such file or directory: '<?xml version=\"1.0\" ?><node id=\"Read\">\t\t\n      \t\t<operator>Read</operator>\t\t\n      \t\t<sources/>\t\t\n      \t\t<parameters>\t\t\t\t\n        \t\t\t\t<file/>\t\t\t\t\n        \t\t\t\t<formatName/>\t\t\t\t\n        \t\t\t\t<sourceBands/>\t\t\t\t\n        \t\t\t\t<sourceMasks/>\t\t\t\t\n        \t\t\t\t<pixelRegion/>\t\t\t\t\n        \t\t\t\t<geometryRegion/>\t\t\t\t\n        \t\t\t\t<copyMetadata>true</copyMetadata>\t\t\t\t\n      \t\t</parameters>\t\t\n    </node>'",
     "output_type": "error",
     "traceback": [
      "\u001b[1;31m---------------------------------------------------------------------------\u001b[0m",
      "\u001b[1;31mOSError\u001b[0m                                   Traceback (most recent call last)",
      "\u001b[1;32m<ipython-input-11-cb07eb0f4fb7>\u001b[0m in \u001b[0;36m<module>\u001b[1;34m\u001b[0m\n\u001b[0;32m      7\u001b[0m \u001b[0mprint\u001b[0m\u001b[1;33m(\u001b[0m\u001b[0mgroups\u001b[0m\u001b[1;33m)\u001b[0m\u001b[1;33m\u001b[0m\u001b[1;33m\u001b[0m\u001b[0m\n\u001b[0;32m      8\u001b[0m \u001b[1;33m\u001b[0m\u001b[0m\n\u001b[1;32m----> 9\u001b[1;33m \u001b[0mgpt\u001b[0m\u001b[1;33m(\u001b[0m\u001b[0mxmlfile\u001b[0m\u001b[1;33m=\u001b[0m\u001b[1;34m'K:/Rough/output/pyro11_workflow1.xml'\u001b[0m\u001b[1;33m,\u001b[0m \u001b[0mgroups\u001b[0m \u001b[1;33m=\u001b[0m \u001b[0mgroups\u001b[0m\u001b[1;33m,\u001b[0m \u001b[0moutdir\u001b[0m \u001b[1;33m=\u001b[0m \u001b[1;34m'K:/Rough/output'\u001b[0m\u001b[1;33m)\u001b[0m\u001b[1;33m\u001b[0m\u001b[1;33m\u001b[0m\u001b[0m\n\u001b[0m\u001b[0;32m     10\u001b[0m \u001b[1;31m#gpt(xmlfile='K:/Rough/output/pyro11_workflow1.xml', outdir ='K:/Rough/output2')\u001b[0m\u001b[1;33m\u001b[0m\u001b[1;33m\u001b[0m\u001b[1;33m\u001b[0m\u001b[0m\n",
      "\u001b[1;32m~\\.conda\\envs\\mypy6\\lib\\site-packages\\pyroSAR\\snap\\auxil.py\u001b[0m in \u001b[0;36mgpt\u001b[1;34m(xmlfile, outdir, groups, cleanup, gpt_exceptions, gpt_args, removeS1BorderNoiseMethod, basename_extensions, multisource)\u001b[0m\n\u001b[0;32m    349\u001b[0m     \u001b[1;32melif\u001b[0m \u001b[1;32mnot\u001b[0m \u001b[0mmultisource\u001b[0m\u001b[1;33m:\u001b[0m\u001b[1;33m\u001b[0m\u001b[1;33m\u001b[0m\u001b[0m\n\u001b[0;32m    350\u001b[0m         \u001b[0mread\u001b[0m \u001b[1;33m=\u001b[0m \u001b[0mworkflow\u001b[0m\u001b[1;33m[\u001b[0m\u001b[1;34m'Read'\u001b[0m\u001b[1;33m]\u001b[0m\u001b[1;33m\u001b[0m\u001b[1;33m\u001b[0m\u001b[0m\n\u001b[1;32m--> 351\u001b[1;33m         \u001b[0mscene\u001b[0m \u001b[1;33m=\u001b[0m \u001b[0midentify\u001b[0m\u001b[1;33m(\u001b[0m\u001b[0mread\u001b[0m\u001b[1;33m.\u001b[0m\u001b[0mparameters\u001b[0m\u001b[1;33m[\u001b[0m\u001b[1;34m'file'\u001b[0m\u001b[1;33m]\u001b[0m\u001b[1;33m)\u001b[0m\u001b[1;33m\u001b[0m\u001b[1;33m\u001b[0m\u001b[0m\n\u001b[0m\u001b[0;32m    352\u001b[0m \u001b[1;33m\u001b[0m\u001b[0m\n\u001b[0;32m    353\u001b[0m     \u001b[0mwrite\u001b[0m \u001b[1;33m=\u001b[0m \u001b[0mworkflow\u001b[0m\u001b[1;33m[\u001b[0m\u001b[1;34m'Write'\u001b[0m\u001b[1;33m]\u001b[0m\u001b[1;33m\u001b[0m\u001b[1;33m\u001b[0m\u001b[0m\n",
      "\u001b[1;32m~\\.conda\\envs\\mypy6\\lib\\site-packages\\pyroSAR\\drivers.py\u001b[0m in \u001b[0;36midentify\u001b[1;34m(scene)\u001b[0m\n\u001b[0;32m    112\u001b[0m     \"\"\"\n\u001b[0;32m    113\u001b[0m     \u001b[1;32mif\u001b[0m \u001b[1;32mnot\u001b[0m \u001b[0mos\u001b[0m\u001b[1;33m.\u001b[0m\u001b[0mpath\u001b[0m\u001b[1;33m.\u001b[0m\u001b[0mexists\u001b[0m\u001b[1;33m(\u001b[0m\u001b[0mscene\u001b[0m\u001b[1;33m)\u001b[0m\u001b[1;33m:\u001b[0m\u001b[1;33m\u001b[0m\u001b[1;33m\u001b[0m\u001b[0m\n\u001b[1;32m--> 114\u001b[1;33m         \u001b[1;32mraise\u001b[0m \u001b[0mOSError\u001b[0m\u001b[1;33m(\u001b[0m\u001b[1;34m\"No such file or directory: '{}'\"\u001b[0m\u001b[1;33m.\u001b[0m\u001b[0mformat\u001b[0m\u001b[1;33m(\u001b[0m\u001b[0mscene\u001b[0m\u001b[1;33m)\u001b[0m\u001b[1;33m)\u001b[0m\u001b[1;33m\u001b[0m\u001b[1;33m\u001b[0m\u001b[0m\n\u001b[0m\u001b[0;32m    115\u001b[0m \u001b[1;33m\u001b[0m\u001b[0m\n\u001b[0;32m    116\u001b[0m     \u001b[1;32mfor\u001b[0m \u001b[0mhandler\u001b[0m \u001b[1;32min\u001b[0m \u001b[0mID\u001b[0m\u001b[1;33m.\u001b[0m\u001b[0m__subclasses__\u001b[0m\u001b[1;33m(\u001b[0m\u001b[1;33m)\u001b[0m\u001b[1;33m:\u001b[0m\u001b[1;33m\u001b[0m\u001b[1;33m\u001b[0m\u001b[0m\n",
      "\u001b[1;31mOSError\u001b[0m: No such file or directory: '<?xml version=\"1.0\" ?><node id=\"Read\">\t\t\n      \t\t<operator>Read</operator>\t\t\n      \t\t<sources/>\t\t\n      \t\t<parameters>\t\t\t\t\n        \t\t\t\t<file/>\t\t\t\t\n        \t\t\t\t<formatName/>\t\t\t\t\n        \t\t\t\t<sourceBands/>\t\t\t\t\n        \t\t\t\t<sourceMasks/>\t\t\t\t\n        \t\t\t\t<pixelRegion/>\t\t\t\t\n        \t\t\t\t<geometryRegion/>\t\t\t\t\n        \t\t\t\t<copyMetadata>true</copyMetadata>\t\t\t\t\n      \t\t</parameters>\t\t\n    </node>'"
     ]
    }
   ],
   "source": [
    "from pyroSAR.snap.auxil import gpt\n",
    "\n",
    "from pyroSAR.snap.auxil import groupbyWorkers\n",
    "\n",
    "\n",
    "groups = groupbyWorkers('K:/Rough/output/pyro11_workflow1.xml', n=1)\n",
    "print(groups)\n",
    "\n",
    "gpt(xmlfile='K:/Rough/output/pyro11_workflow1.xml', groups = groups, outdir = 'K:/Rough/output')\n",
    "#gpt(xmlfile='K:/Rough/output/pyro11_workflow1.xml', outdir ='K:/Rough/output2')"
   ]
  },
  {
   "cell_type": "code",
   "execution_count": null,
   "id": "8764cc61",
   "metadata": {},
   "outputs": [],
   "source": []
  }
 ],
 "metadata": {
  "kernelspec": {
   "display_name": "Python [conda env:.conda-mypy6] *",
   "language": "python",
   "name": "conda-env-.conda-mypy6-py"
  },
  "language_info": {
   "codemirror_mode": {
    "name": "ipython",
    "version": 3
   },
   "file_extension": ".py",
   "mimetype": "text/x-python",
   "name": "python",
   "nbconvert_exporter": "python",
   "pygments_lexer": "ipython3",
   "version": "3.6.13"
  }
 },
 "nbformat": 4,
 "nbformat_minor": 5
}
